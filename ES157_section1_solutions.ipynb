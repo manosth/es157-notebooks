{
 "cells": [
  {
   "cell_type": "markdown",
   "metadata": {},
   "source": [
    "# `ES 157` Section 1: Introduction to Signals"
   ]
  },
  {
   "cell_type": "markdown",
   "metadata": {},
   "source": [
    "For the first few weeks we are going to learn how to work with basic signals, examine properties of signals and systems, and get some exposure to the Fourier analysis. Our work will culminate in an analysis and modeling of Massachusetts (or your home state's) COVID-19 data. \n",
    "![covid_mass](https://i.imgur.com/bI1umxq.png)\n",
    "This week we'll start off by a basic introduction to `Python` and `numpy`. Then, we will create some fundamental signals and we'll perform basic operations on them. \n",
    "\n",
    "At the end of this notebook you will know\n",
    "1. the basics of `Python`'s syntax,\n",
    "2. how to create basic signals using `numpy`, and\n",
    "3. how to use `Python` to perform basic signal operations.\n",
    "\n",
    "First, let us import some of libraries that we will be using."
   ]
  },
  {
   "cell_type": "code",
   "execution_count": 1,
   "metadata": {},
   "outputs": [],
   "source": [
    "import matplotlib.pyplot as plt\n",
    "import numpy as np\n",
    "import scipy.signal as signal"
   ]
  },
  {
   "cell_type": "markdown",
   "metadata": {},
   "source": [
    "## Python introduction 🐍"
   ]
  },
  {
   "cell_type": "markdown",
   "metadata": {},
   "source": [
    "`Python` is a high-level programming language that is easy to learn and experiment with. Let's familiarze ourselves with the syntax and basic operations."
   ]
  },
  {
   "cell_type": "code",
   "execution_count": 2,
   "metadata": {},
   "outputs": [
    {
     "name": "stdout",
     "output_type": "stream",
     "text": [
      "Hello world!\n",
      "336\n",
      "[-1.61506016  1.78287078 -0.52509041  1.02896115 -1.23698001 -0.34639211\n",
      "  0.77793917  0.97951207 -0.00823114 -0.36228497]\n"
     ]
    }
   ],
   "source": [
    "# let's start with the cliché and print \"Hello world!\"\n",
    "print(\"Hello world!\")\n",
    "\n",
    "# let's now exponentiate 2 by 3 and multiply by 42\n",
    "print((2 ** 3) * 42)\n",
    "\n",
    "# let's use `numpy` to create a random vector with 10 elements\n",
    "x = np.random.randn(10)\n",
    "print(x)"
   ]
  },
  {
   "cell_type": "markdown",
   "metadata": {},
   "source": [
    "In vanilla `Python` almost everything is treated as a _list_ of items. It is important to become proficient with `Python`'s _list slicing_ and _indexing_."
   ]
  },
  {
   "cell_type": "code",
   "execution_count": 3,
   "metadata": {},
   "outputs": [
    {
     "name": "stdout",
     "output_type": "stream",
     "text": [
      "-1.6150601572925818\n",
      "-0.36228496965888546\n",
      "[ 1.02896115 -1.23698001]\n",
      "[-0.52509041  1.02896115 -1.23698001 -0.34639211  0.77793917  0.97951207\n",
      " -0.00823114 -0.36228497]\n",
      "[-1.61506016 -0.52509041 -1.23698001  0.77793917 -0.00823114]\n",
      "[ 0.97951207 -0.00823114 -0.36228497]\n",
      "[ 0.97951207  0.77793917 -0.34639211 -1.23698001]\n"
     ]
    }
   ],
   "source": [
    "# from the random vector we created, we will print the first element\n",
    "print(x[0])\n",
    "\n",
    "# and the last element\n",
    "print(x[-1])\n",
    "\n",
    "# print the indices from 3 to 5\n",
    "print(x[2:6])\n",
    "\n",
    "# and all the indixes after 2\n",
    "print(x[2:])\n",
    "\n",
    "# print every other index\n",
    "print(x[::2])\n",
    "\n",
    "# print everything after the 3rd to last element\n",
    "print(x[-3:])\n",
    "\n",
    "# print, in reverse order, everything from the 3rd to last to the 3rd index\n",
    "print(x[-3:2:-1])"
   ]
  },
  {
   "cell_type": "markdown",
   "metadata": {},
   "source": [
    "## Fundamental signals"
   ]
  },
  {
   "cell_type": "markdown",
   "metadata": {},
   "source": [
    "Having familiarized oursleves with `Python` we will create and plot a few fundamental signals. We will set the number of samples to `N=20` for all the signals we'll create."
   ]
  },
  {
   "cell_type": "code",
   "execution_count": 4,
   "metadata": {},
   "outputs": [
    {
     "name": "stderr",
     "output_type": "stream",
     "text": [
      "/usr/local/lib/python3.7/site-packages/ipykernel_launcher.py:8: UserWarning: In Matplotlib 3.3 individual lines on a stem plot will be added as a LineCollection instead of individual lines. This significantly improves the performance of a stem plot. To remove this warning and switch to the new behaviour, set the \"use_line_collection\" keyword argument to True.\n",
      "  \n"
     ]
    },
    {
     "data": {
      "text/plain": [
       "Text(0, 0.5, 'Amplitude')"
      ]
     },
     "execution_count": 4,
     "metadata": {},
     "output_type": "execute_result"
    },
    {
     "data": {
      "image/png": "[encoded data removed]",
      "text/plain": [
       "<Figure size 432x288 with 1 Axes>"
      ]
     },
     "metadata": {
      "needs_background": "light"
     },
     "output_type": "display_data"
    }
   ],
   "source": [
    "N = 20\n",
    "\n",
    "# create unit sample signal\n",
    "x_1 = np.zeros((N,))\n",
    "x_1[0] = 1\n",
    "\n",
    "# plot the signal as a stemplot\n",
    "plt.stem(x_1)\n",
    "plt.title(\"$x_1[n]$\")\n",
    "plt.xlabel(\"$n$\")\n",
    "plt.ylabel(\"Amplitude\")"
   ]
  },
  {
   "cell_type": "code",
   "execution_count": 5,
   "metadata": {},
   "outputs": [
    {
     "name": "stderr",
     "output_type": "stream",
     "text": [
      "/usr/local/lib/python3.7/site-packages/ipykernel_launcher.py:5: UserWarning: In Matplotlib 3.3 individual lines on a stem plot will be added as a LineCollection instead of individual lines. This significantly improves the performance of a stem plot. To remove this warning and switch to the new behaviour, set the \"use_line_collection\" keyword argument to True.\n",
      "  \"\"\"\n"
     ]
    },
    {
     "data": {
      "text/plain": [
       "Text(0, 0.5, 'Amplitude')"
      ]
     },
     "execution_count": 5,
     "metadata": {},
     "output_type": "execute_result"
    },
    {
     "data": {
      "image/png": "[encoded data removed]",
      "text/plain": [
       "<Figure size 432x288 with 1 Axes>"
      ]
     },
     "metadata": {
      "needs_background": "light"
     },
     "output_type": "display_data"
    }
   ],
   "source": [
    "# create a unit step\n",
    "x_2 = np.ones((N,))\n",
    "\n",
    "# plot the signal as a stemplot\n",
    "plt.stem(x_2)\n",
    "plt.title(\"$x_2[n]$\")\n",
    "plt.xlabel(\"$n$\")\n",
    "plt.ylabel(\"Amplitude\")"
   ]
  },
  {
   "cell_type": "code",
   "execution_count": 6,
   "metadata": {},
   "outputs": [
    {
     "name": "stderr",
     "output_type": "stream",
     "text": [
      "/usr/local/lib/python3.7/site-packages/ipykernel_launcher.py:6: UserWarning: In Matplotlib 3.3 individual lines on a stem plot will be added as a LineCollection instead of individual lines. This significantly improves the performance of a stem plot. To remove this warning and switch to the new behaviour, set the \"use_line_collection\" keyword argument to True.\n",
      "  \n"
     ]
    },
    {
     "data": {
      "text/plain": [
       "Text(0, 0.5, 'Amplitude')"
      ]
     },
     "execution_count": 6,
     "metadata": {},
     "output_type": "execute_result"
    },
    {
     "data": {
      "image/png": "[encoded data removed]",
      "text/plain": [
       "<Figure size 432x288 with 1 Axes>"
      ]
     },
     "metadata": {
      "needs_background": "light"
     },
     "output_type": "display_data"
    }
   ],
   "source": [
    "# create an exponential signal\n",
    "x_3 = range(N)\n",
    "x_3 = [np.e ** (-0.125 * idx) for idx in x_3]\n",
    "\n",
    "# plot the signal as a stemplot\n",
    "plt.stem(x_3)\n",
    "plt.title(\"$x_3[n]$\")\n",
    "plt.xlabel(\"$n$\")\n",
    "plt.ylabel(\"Amplitude\")"
   ]
  },
  {
   "cell_type": "code",
   "execution_count": 7,
   "metadata": {},
   "outputs": [
    {
     "name": "stderr",
     "output_type": "stream",
     "text": [
      "/usr/local/lib/python3.7/site-packages/ipykernel_launcher.py:6: UserWarning: In Matplotlib 3.3 individual lines on a stem plot will be added as a LineCollection instead of individual lines. This significantly improves the performance of a stem plot. To remove this warning and switch to the new behaviour, set the \"use_line_collection\" keyword argument to True.\n",
      "  \n"
     ]
    },
    {
     "data": {
      "text/plain": [
       "Text(0, 0.5, 'Amplitude')"
      ]
     },
     "execution_count": 7,
     "metadata": {},
     "output_type": "execute_result"
    },
    {
     "data": {
      "image/png": "[encoded data removed]",
      "text/plain": [
       "<Figure size 432x288 with 1 Axes>"
      ]
     },
     "metadata": {
      "needs_background": "light"
     },
     "output_type": "display_data"
    }
   ],
   "source": [
    "# create a sinusoidal signal\n",
    "x_4 = range(N)\n",
    "x_4 = [np.sin(1  / 10 * np.pi * idx) for idx in x_4]\n",
    "\n",
    "# plot the signal as a stemplot\n",
    "plt.stem(x_4)\n",
    "plt.title(\"$x_4[n]$\")\n",
    "plt.xlabel(\"$n$\")\n",
    "plt.ylabel(\"Amplitude\")"
   ]
  },
  {
   "cell_type": "markdown",
   "metadata": {},
   "source": [
    "## Signal operations"
   ]
  },
  {
   "cell_type": "markdown",
   "metadata": {},
   "source": [
    "Having computed some basic signals we will turn our attention to basic signal operations."
   ]
  },
  {
   "cell_type": "code",
   "execution_count": 8,
   "metadata": {},
   "outputs": [
    {
     "name": "stderr",
     "output_type": "stream",
     "text": [
      "/usr/local/lib/python3.7/site-packages/ipykernel_launcher.py:5: UserWarning: In Matplotlib 3.3 individual lines on a stem plot will be added as a LineCollection instead of individual lines. This significantly improves the performance of a stem plot. To remove this warning and switch to the new behaviour, set the \"use_line_collection\" keyword argument to True.\n",
      "  \"\"\"\n"
     ]
    },
    {
     "data": {
      "text/plain": [
       "Text(0, 0.5, 'Amplitude')"
      ]
     },
     "execution_count": 8,
     "metadata": {},
     "output_type": "execute_result"
    },
    {
     "data": {
      "image/png": "[encoded data removed]",
      "text/plain": [
       "<Figure size 432x288 with 1 Axes>"
      ]
     },
     "metadata": {
      "needs_background": "light"
     },
     "output_type": "display_data"
    }
   ],
   "source": [
    "# add the exponential and the sinusoidal signal\n",
    "x_5 = [x_3[idx] + x_4[idx] for idx in range(len(x_3))]\n",
    "\n",
    "# plot the signal as stemplot\n",
    "plt.stem(x_5)\n",
    "plt.title(\"$x_5[n]$\")\n",
    "plt.xlabel(\"$n$\")\n",
    "plt.ylabel(\"Amplitude\")"
   ]
  },
  {
   "cell_type": "code",
   "execution_count": 9,
   "metadata": {
    "scrolled": false
   },
   "outputs": [
    {
     "name": "stderr",
     "output_type": "stream",
     "text": [
      "/usr/local/lib/python3.7/site-packages/ipykernel_launcher.py:6: UserWarning: In Matplotlib 3.3 individual lines on a stem plot will be added as a LineCollection instead of individual lines. This significantly improves the performance of a stem plot. To remove this warning and switch to the new behaviour, set the \"use_line_collection\" keyword argument to True.\n",
      "  \n"
     ]
    },
    {
     "data": {
      "text/plain": [
       "Text(0, 0.5, 'Amplitude')"
      ]
     },
     "execution_count": 9,
     "metadata": {},
     "output_type": "execute_result"
    },
    {
     "data": {
      "image/png": "[encoded data removed]",
      "text/plain": [
       "<Figure size 432x288 with 1 Axes>"
      ]
     },
     "metadata": {
      "needs_background": "light"
     },
     "output_type": "display_data"
    }
   ],
   "source": [
    "# delay the unit step by 5\n",
    "x_delay = np.zeros((5,))\n",
    "x_6 = np.concatenate((x_delay, x_2))\n",
    "\n",
    "# plot the signal as stemplot\n",
    "plt.stem(x_6)\n",
    "plt.title(\"$x_6[n]$\")\n",
    "plt.xlabel(\"$n$\")\n",
    "plt.ylabel(\"Amplitude\")"
   ]
  },
  {
   "cell_type": "markdown",
   "metadata": {},
   "source": [
    "That's all for this week! Hopefully you got accustomed to the basics of `Python` and learned how to create and manipulate some simple signals. Please take a minute to fill out this week's feedback [form]()."
   ]
  }
 ],
 "metadata": {
  "kernelspec": {
   "display_name": "Python 3",
   "language": "python",
   "name": "python3"
  },
  "language_info": {
   "codemirror_mode": {
    "name": "ipython",
    "version": 3
   },
   "file_extension": ".py",
   "mimetype": "text/x-python",
   "name": "python",
   "nbconvert_exporter": "python",
   "pygments_lexer": "ipython3",
   "version": "3.8.6"
  }
 },
 "nbformat": 4,
 "nbformat_minor": 2
}
