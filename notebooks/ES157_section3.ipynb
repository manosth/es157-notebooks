{
 "cells": [
  {
   "cell_type": "markdown",
   "metadata": {},
   "source": [
    "# `ES 157` Section 3: Modeling COVID cases"
   ]
  },
  {
   "cell_type": "markdown",
   "metadata": {},
   "source": [
    "This week we will use everything we've been learning in class about systems and the Fourier transform so far, in order to make a simplistic model for the daily COVID cases. As a reminder from the first notebook, this is the data that we will work with.\n",
    "\n",
    "![covid_mass](https://i.imgur.com/bI1umxq.png)\n",
    "\n",
    "At the end of this notebook you will\n",
    "1. have used `pandas` and `python` to clean up data,\n",
    "2. have used the Fourier transform to analyze data, and\n",
    "3. have created a simple model for the daily new cases.\n",
    "\n",
    "As we always, let us import some needed libraries."
   ]
  },
  {
   "cell_type": "code",
   "execution_count": 2,
   "metadata": {},
   "outputs": [],
   "source": [
    "import matplotlib.pyplot as plt\n",
    "import numpy as np\n",
    "import scipy.signal as signal\n",
    "import pandas as pd"
   ]
  },
  {
   "cell_type": "markdown",
   "metadata": {},
   "source": [
    "## Loading up COVID data 💉"
   ]
  },
  {
   "cell_type": "markdown",
   "metadata": {},
   "source": [
    "Along with this week's notebook you should have downloaded some COVID data. In the introductory video, Demba mentioned the COVID tracker of the [John Hopkins University](https://coronavirus.jhu.edu/data/new-cases-50-states). That tracker, like most of the COVID dashboards, actually use data from [this](https://github.com/CSSEGISandData/COVID-19) GitHub repo. The data we provide were downloaded from the same repo a few weeks ago. Let's load the data from our favorite state."
   ]
  },
  {
   "cell_type": "code",
   "execution_count": 1,
   "metadata": {},
   "outputs": [],
   "source": [
    "# load the csv\n",
    "\n",
    "#check the data"
   ]
  },
  {
   "cell_type": "markdown",
   "metadata": {},
   "source": [
    "We can see that the data have lots of columns that we probably don't need for our simple analysis. In fact, we see that the first `11` columns have extraneous information. Let's extract the data only for a specific state, and calculate the number of daily cases.\n",
    "\n",
    "We see that the data is actually split into the numbers reported by each county. When trying to find the total number of daily cases, we have to aggregate the reported numbers by all the counties.\n",
    "\n",
    "Another thing we need to consider is that each day actually reports the _total_ number of cases thus far. So, again, we have to acount for that in order to find the number of daily cases."
   ]
  },
  {
   "cell_type": "code",
   "execution_count": 2,
   "metadata": {},
   "outputs": [],
   "source": [
    "# extract the list of columns\n",
    "\n",
    "# restrict to your state's data\n",
    "\n",
    "# find the new daily cases"
   ]
  },
  {
   "cell_type": "markdown",
   "metadata": {},
   "source": [
    "## Plotting the data and the FFT"
   ]
  },
  {
   "cell_type": "markdown",
   "metadata": {},
   "source": [
    "Now that we've cleaned up the data a little bit, let us try and plot them to make sure we get a sensible image.\n",
    "\n",
    "**Optional**: create a sensible time axis using `pandas`/`matplotlib` (or, you might want to look into `plotly`; it has a lot of ways to manage plots with dates.)"
   ]
  },
  {
   "cell_type": "code",
   "execution_count": 3,
   "metadata": {},
   "outputs": [],
   "source": [
    "# plot the daily new cases"
   ]
  },
  {
   "cell_type": "markdown",
   "metadata": {},
   "source": [
    "Okay, this looks good! It seems to be aligned with the image from the John Hopkins tracker. Let's examine now the frequency content of the daily new cases by using the _Fourier transform_."
   ]
  },
  {
   "cell_type": "code",
   "execution_count": 4,
   "metadata": {},
   "outputs": [],
   "source": [
    "# plot the FFT of the daily new cases\n",
    "\n",
    "# create frequency axis\n",
    "\n",
    "# plot the fft"
   ]
  },
  {
   "cell_type": "markdown",
   "metadata": {},
   "source": [
    "## Analyzing the Fourier transform"
   ]
  },
  {
   "cell_type": "markdown",
   "metadata": {},
   "source": [
    "We see a very strong DC component in the Fourier transform of the signal. As we've talked about before, this is expected and encodes the mean of the signal. As a first analysis step, let's remove it and see if the image becomes clearer."
   ]
  },
  {
   "cell_type": "code",
   "execution_count": 5,
   "metadata": {},
   "outputs": [],
   "source": [
    "# remove the dc component from the FFT\n",
    "\n",
    "# plot the fft"
   ]
  },
  {
   "cell_type": "markdown",
   "metadata": {},
   "source": [
    "We see a little bit clearer two symmetric peaks. What do they correspond to? Remember, our frequency axis is measured in _days_; therefore this implies that if we have a frequency $x$, then this means that the event happens every $\\frac{1}{x}$ days (the period is the inverse of the frequency). Do the peaks make sense?\n",
    "\n",
    "Now, let's try the following; reconstruct the signal using the inverse FFT, but zero out everything except the DC and the interval $[0.12, 0.17]$ (and its symmetric one.)"
   ]
  },
  {
   "cell_type": "code",
   "execution_count": 6,
   "metadata": {},
   "outputs": [],
   "source": [
    "\n",
    "# find the indices of interest\n",
    "\n",
    "# zero out everything except the parts of interest\n",
    "\n",
    "# reconstruct the signal\n",
    "\n",
    "# plot the reconstructed signal"
   ]
  },
  {
   "cell_type": "markdown",
   "metadata": {},
   "source": [
    "It turns out that our intuition was correct; the DC component and the frequency content we identified are able to give us a pretty good approximation of the original curve. Obviously, there's some information lost since we zero'ed out most of the Fourier transform; however, we get a fairly sensible image with only a few coefficients.\n",
    "\n",
    "This idea is the basis of _compression_; we identify the most important coefficients in a base and we keep _only_ those coefficients."
   ]
  },
  {
   "cell_type": "markdown",
   "metadata": {},
   "source": [
    "## Trying to model COVID"
   ]
  },
  {
   "cell_type": "markdown",
   "metadata": {},
   "source": [
    "Let's try and make a simple model for the COVID data. We will base our model on two observations\n",
    "- first, we saw that the number of daily cases exhibit some sort of periodicity, and\n",
    "- second, we see a Gaussian-shaped component.\n",
    "\n",
    "The simplest periodic signal we know is a _sine_; therefore, we will try to model the daily new cases by using the product of a sine and a Gaussian distribution.\n",
    "\n",
    "First, let us create a sine wave of the appropriate frequency."
   ]
  },
  {
   "cell_type": "code",
   "execution_count": 7,
   "metadata": {},
   "outputs": [],
   "source": [
    "# create a time variable\n",
    "\n",
    "# choose an appropriate frequency/period\n",
    "\n",
    "# create the sine\n",
    "\n",
    "# plot the sine"
   ]
  },
  {
   "cell_type": "markdown",
   "metadata": {},
   "source": [
    "Hmm, but our sine takes negative values. To get a clearer picture on our graph, we could make sure we only keep the parts that are above zero."
   ]
  },
  {
   "cell_type": "code",
   "execution_count": 8,
   "metadata": {},
   "outputs": [],
   "source": [
    "# keep only the positive part of the sine\n",
    "\n",
    "# plot the sine"
   ]
  },
  {
   "cell_type": "markdown",
   "metadata": {},
   "source": [
    "We're slowly making progress. 🤓 Let's move on to the Gaussian. As a reminder, the equation of a Gaussian distribution is given by\n",
    "<center>$f(x) = \\frac{1}{\\sigma \\sqrt{2 \\pi}} e^{-\\frac{1}{2}\\left(\\frac{x - \\mu}{\\sigma}\\right)^2}$.</center>\n",
    "Around what day does the Gaussian seem to be centered? And what would you say is it's standard deviation?\n",
    "\n",
    "Also, note that we need to acount for the height of the distribution. Notice that when $x = \\mu$, the Gaussian simplifies to\n",
    "<center>$f(\\mu) = \\frac{1}{\\sigma \\sqrt{2 \\pi}}$.</center>\n",
    "So, we should look at the corresponding desired height at that peak, and add an adjustment term to our distribution."
   ]
  },
  {
   "cell_type": "code",
   "execution_count": 9,
   "metadata": {},
   "outputs": [],
   "source": [
    "# make a guess for the mean and the std\n",
    "\n",
    "# find the adjustment term\n",
    "\n",
    "# create the Gaussian\n",
    "\n",
    "# plot the Gaussian"
   ]
  },
  {
   "cell_type": "markdown",
   "metadata": {},
   "source": [
    "Okay, so now we have our Gaussian and we have our sine wave. Let's multiply them and plot the product in the same plot as the COVID data and see how we did."
   ]
  },
  {
   "cell_type": "code",
   "execution_count": 1,
   "metadata": {},
   "outputs": [],
   "source": [
    "# multiply the signals\n",
    "\n",
    "# plot the product signal\n",
    "\n",
    "# plot the covid data"
   ]
  },
  {
   "cell_type": "markdown",
   "metadata": {},
   "source": [
    "It's obviously not perfect, but it's a simple approximation that captures the essential components of the data. I hope you enjoyed getting playing a bit with some real data and getting some experience with data science. Please take a minute to fill out this week's feedback [form]().\n",
    "\n",
    "**Optional**: pay attention exactly on what _day_ are the spikes in the daily new cases reported. Can you think of any plausible reasons why this happens?\n",
    "\n",
    "\n",
    "**Optional**: can you play around and create a better model for the COVID data? An idea would be to make sure that we don't have the valleys of zero in our product signal. Another thing you could try could involve convolution."
   ]
  }
 ],
 "metadata": {
  "kernelspec": {
   "display_name": "Python 3",
   "language": "python",
   "name": "python3"
  },
  "language_info": {
   "codemirror_mode": {
    "name": "ipython",
    "version": 3
   },
   "file_extension": ".py",
   "mimetype": "text/x-python",
   "name": "python",
   "nbconvert_exporter": "python",
   "pygments_lexer": "ipython3",
   "version": "3.8.6"
  }
 },
 "nbformat": 4,
 "nbformat_minor": 2
}
