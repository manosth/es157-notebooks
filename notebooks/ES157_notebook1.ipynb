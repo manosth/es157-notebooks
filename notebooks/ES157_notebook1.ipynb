{
 "cells": [
  {
   "cell_type": "markdown",
   "metadata": {},
   "source": [
    "# `ES 157` Notebook 1: Introduction to Signals"
   ]
  },
  {
   "cell_type": "markdown",
   "metadata": {},
   "source": [
    "For the first few weeks we are going to learn how to work with basic signals, examine properties of signals and systems, and get some exposure to the Fourier analysis. Our work will culminate in an analysis and modeling of Massachusetts (or your home state's) COVID-19 data. \n",
    "![covid_mass](https://i.imgur.com/bI1umxq.png)\n",
    "This week we'll start off by a basic introduction to `Python` and `numpy`. Then, we will create some fundamental signals and we'll perform basic operations on them. \n",
    "\n",
    "At the end of this notebook you will know\n",
    "1. the basics of `Python`'s syntax,\n",
    "2. how to create basic signals using `numpy`, and\n",
    "3. how to use `Python` to perform basic signal operations.\n",
    "\n",
    "First, let us import some of libraries that we will be using."
   ]
  },
  {
   "cell_type": "code",
   "execution_count": 1,
   "metadata": {},
   "outputs": [],
   "source": [
    "import matplotlib.pyplot as plt\n",
    "import numpy as np\n",
    "import scipy.signal as signal"
   ]
  },
  {
   "cell_type": "markdown",
   "metadata": {},
   "source": [
    "## Python introduction 🐍"
   ]
  },
  {
   "cell_type": "markdown",
   "metadata": {},
   "source": [
    "`Python` is a high-level programming language that is easy to learn and experiment with. Let's familiarze ourselves with the syntax and basic operations."
   ]
  },
  {
   "cell_type": "code",
   "execution_count": 2,
   "metadata": {},
   "outputs": [],
   "source": [
    "# let's start with the cliché and print \"Hello world!\"\n",
    "\n",
    "\n",
    "# let's now exponentiate 2 by 3 and multiply by 42\n",
    "\n",
    "\n",
    "# let's use `numpy` to create a random vector with 10 elements\n",
    "\n"
   ]
  },
  {
   "cell_type": "markdown",
   "metadata": {},
   "source": [
    "In vanilla `Python` almost everything is treated as a _list_ of items. It is important to become proficient with `Python`'s _list slicing_ and _indexing_."
   ]
  },
  {
   "cell_type": "code",
   "execution_count": 3,
   "metadata": {},
   "outputs": [],
   "source": [
    "# from the random vector we created, we will print the first element\n",
    "\n",
    "\n",
    "# and the last element\n",
    "\n",
    "\n",
    "# print the indices from 3 to 5\n",
    "\n",
    "\n",
    "# and all the indixes after 2\n",
    "\n",
    "\n",
    "# print every other index\n",
    "\n",
    "\n",
    "# print everything after the 3rd to last element\n",
    "\n",
    "\n",
    "# print, in reverse order, everything from the 3rd to last to the 3rd index\n"
   ]
  },
  {
   "cell_type": "markdown",
   "metadata": {},
   "source": [
    "## Fundamental signals"
   ]
  },
  {
   "cell_type": "markdown",
   "metadata": {},
   "source": [
    "Having familiarized oursleves with `Python` we will create and plot a few fundamental signals. We will set the number of samples to `N=20` for all the signals we'll create."
   ]
  },
  {
   "cell_type": "code",
   "execution_count": 4,
   "metadata": {},
   "outputs": [],
   "source": [
    "N = 20\n",
    "\n",
    "# create unit sample signal\n",
    "\n",
    "\n",
    "# plot the signal as a stemplot\n"
   ]
  },
  {
   "cell_type": "code",
   "execution_count": 5,
   "metadata": {},
   "outputs": [],
   "source": [
    "# create a unit step\n",
    "\n",
    "\n",
    "# plot the signal as a stemplot\n"
   ]
  },
  {
   "cell_type": "code",
   "execution_count": 6,
   "metadata": {},
   "outputs": [],
   "source": [
    "# create an exponential signal\n",
    "\n",
    "\n",
    "# plot the signal as a stemplot\n"
   ]
  },
  {
   "cell_type": "code",
   "execution_count": 7,
   "metadata": {},
   "outputs": [],
   "source": [
    "# create a sinusoidal signal\n",
    "\n",
    "\n",
    "# plot the signal as a stemplot\n"
   ]
  },
  {
   "cell_type": "markdown",
   "metadata": {},
   "source": [
    "## Signal operations"
   ]
  },
  {
   "cell_type": "markdown",
   "metadata": {},
   "source": [
    "Having computed some basic signals we will turn our attention to basic signal operations."
   ]
  },
  {
   "cell_type": "code",
   "execution_count": 8,
   "metadata": {},
   "outputs": [],
   "source": [
    "# add the exponential and the sinusoidal signal\n",
    "\n",
    "\n",
    "# plot the signal as stemplot\n"
   ]
  },
  {
   "cell_type": "code",
   "execution_count": 9,
   "metadata": {
    "scrolled": false
   },
   "outputs": [],
   "source": [
    "# delay the unit step by 5\n",
    "\n",
    "\n",
    "# plot the signal as stemplot\n"
   ]
  },
  {
   "cell_type": "markdown",
   "metadata": {},
   "source": [
    "That's all for this week! Hopefully you got accustomed to the basics of `Python` and learned how to create and manipulate some simple signals. Please take a minute to fill out this week's feedback [form]()."
   ]
  }
 ],
 "metadata": {
  "kernelspec": {
   "display_name": "Python 3",
   "language": "python",
   "name": "python3"
  },
  "language_info": {
   "codemirror_mode": {
    "name": "ipython",
    "version": 3
   },
   "file_extension": ".py",
   "mimetype": "text/x-python",
   "name": "python",
   "nbconvert_exporter": "python",
   "pygments_lexer": "ipython3",
   "version": "3.8.6"
  }
 },
 "nbformat": 4,
 "nbformat_minor": 2
}
