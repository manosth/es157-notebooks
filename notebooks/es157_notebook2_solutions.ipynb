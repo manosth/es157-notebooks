{
 "cells": [
  {
   "cell_type": "markdown",
   "metadata": {},
   "source": [
    "# `ES 157` Notebook 2: Convolution and Systems"
   ]
  },
  {
   "cell_type": "markdown",
   "metadata": {},
   "source": [
    "This week we'll look more into the _properties_ of systems and experiment with _convolution_.\n",
    "\n",
    "At the end of this notebook you will know\n",
    "1. how to create impulse responses,\n",
    "2. how to test linearity and timy invariance in `Python`,\n",
    "3. how to write your own version of signal convolution, and\n",
    "3. how to convolve signals.\n",
    "\n",
    "As we did last week, let us import some needed libraries."
   ]
  },
  {
   "cell_type": "code",
   "execution_count": 2,
   "metadata": {},
   "outputs": [],
   "source": [
    "import matplotlib.pyplot as plt\n",
    "import numpy as np\n",
    "import scipy.signal as signal"
   ]
  },
  {
   "cell_type": "markdown",
   "metadata": {},
   "source": [
    "## (Optional) Write up your own convolution! 🤓"
   ]
  },
  {
   "cell_type": "markdown",
   "metadata": {},
   "source": [
    "Let us begin by trying to write our own version of convolution. If you're struggling, feel free to skip this step and work with `scipy`'s version instead to complete the notebook. Remember that the definition of convolution of two signals is given by\n",
    "<center>$x[n] * y[n] = \\sum_{k=-\\infty}^{\\infty} x[k]y[n-k]$.</center>"
   ]
  },
  {
   "cell_type": "code",
   "execution_count": 3,
   "metadata": {},
   "outputs": [],
   "source": [
    "def convolve(x, y):\n",
    "    '''Function that computes the convolution between two 1-D signals.'''\n",
    "    \n",
    "    N = len(x)\n",
    "    L = len(y)\n",
    "    \n",
    "    w = np.zeros((N + L - 1,))\n",
    "    \n",
    "    for idx in range(N + L - 1):\n",
    "        for jdx in range(max(N, L)):\n",
    "            if idx - jdx < 0:\n",
    "                continue\n",
    "            if idx - jdx >= L:\n",
    "                continue\n",
    "            if jdx >= N:\n",
    "                continue\n",
    "                \n",
    "            w[idx] += x[jdx] * y[idx - jdx]\n",
    "    return w"
   ]
  },
  {
   "cell_type": "markdown",
   "metadata": {},
   "source": [
    "Let's test our implementation and make sure that it is consistent with `scipy`'s implementation. Let's create and convolve two random signals with `N=10` and `L=8`."
   ]
  },
  {
   "cell_type": "code",
   "execution_count": 4,
   "metadata": {},
   "outputs": [
    {
     "name": "stdout",
     "output_type": "stream",
     "text": [
      "The two convolutions are the same: True\n"
     ]
    }
   ],
   "source": [
    "N = 10\n",
    "L = 8\n",
    "\n",
    "# generate the random signals\n",
    "x = np.random.randn(N)\n",
    "y = np.random.randn(L)\n",
    "\n",
    "# check that the outputs are the same\n",
    "print(\"The two convolutions are the same: {}\".format((convolve(x, y) == signal.convolve(x, y)).all()))"
   ]
  },
  {
   "cell_type": "markdown",
   "metadata": {},
   "source": [
    "## Impulse responses and convolution"
   ]
  },
  {
   "cell_type": "markdown",
   "metadata": {},
   "source": [
    "Let us now examine a few simple impulse responses and make sure that they have the expected effect. First, plot the random signal $x[n]$. Then, generate a _unit impulse_, convolve it with $x[n]$, and plot the result."
   ]
  },
  {
   "cell_type": "code",
   "execution_count": 5,
   "metadata": {},
   "outputs": [
    {
     "name": "stderr",
     "output_type": "stream",
     "text": [
      "/usr/local/lib/python3.7/site-packages/ipykernel_launcher.py:2: UserWarning: In Matplotlib 3.3 individual lines on a stem plot will be added as a LineCollection instead of individual lines. This significantly improves the performance of a stem plot. To remove this warning and switch to the new behaviour, set the \"use_line_collection\" keyword argument to True.\n",
      "  \n"
     ]
    },
    {
     "data": {
      "text/plain": [
       "Text(0, 0.5, 'Amplitude')"
      ]
     },
     "execution_count": 5,
     "metadata": {},
     "output_type": "execute_result"
    },
    {
     "data": {
      "image/png": "[encoded data removed]",
      "text/plain": [
       "<Figure size 432x288 with 1 Axes>"
      ]
     },
     "metadata": {
      "needs_background": "light"
     },
     "output_type": "display_data"
    }
   ],
   "source": [
    "# plot the signal as a stemplot\n",
    "plt.stem(x)\n",
    "plt.title(\"$x[n]$\")\n",
    "plt.xlabel(\"$n$\")\n",
    "plt.ylabel(\"Amplitude\")"
   ]
  },
  {
   "cell_type": "code",
   "execution_count": 6,
   "metadata": {},
   "outputs": [
    {
     "name": "stderr",
     "output_type": "stream",
     "text": [
      "/usr/local/lib/python3.7/site-packages/ipykernel_launcher.py:8: UserWarning: In Matplotlib 3.3 individual lines on a stem plot will be added as a LineCollection instead of individual lines. This significantly improves the performance of a stem plot. To remove this warning and switch to the new behaviour, set the \"use_line_collection\" keyword argument to True.\n",
      "  \n"
     ]
    },
    {
     "data": {
      "text/plain": [
       "Text(0, 0.5, 'Amplitude')"
      ]
     },
     "execution_count": 6,
     "metadata": {},
     "output_type": "execute_result"
    },
    {
     "data": {
      "image/png": "[encoded data removed]",
      "text/plain": [
       "<Figure size 432x288 with 1 Axes>"
      ]
     },
     "metadata": {
      "needs_background": "light"
     },
     "output_type": "display_data"
    }
   ],
   "source": [
    "# create the impulse response\n",
    "h_1 = np.ones((1,))\n",
    "\n",
    "# convolve it with x\n",
    "w_1 = convolve(x, h_1)\n",
    "\n",
    "# plot the signal as a stemplot\n",
    "plt.stem(w_1)\n",
    "plt.title(\"$x[n] * h_1[n]$\")\n",
    "plt.xlabel(\"$n$\")\n",
    "plt.ylabel(\"Amplitude\")"
   ]
  },
  {
   "cell_type": "markdown",
   "metadata": {},
   "source": [
    "Let's now examine a different system impulse; namely consider a _unit step function_ of length `L`. Can you guess what the convolution with $x[n]$ will look like? What about the convolution with itself? Compute and plot both."
   ]
  },
  {
   "cell_type": "code",
   "execution_count": 7,
   "metadata": {},
   "outputs": [
    {
     "name": "stderr",
     "output_type": "stream",
     "text": [
      "/usr/local/lib/python3.7/site-packages/ipykernel_launcher.py:8: UserWarning: In Matplotlib 3.3 individual lines on a stem plot will be added as a LineCollection instead of individual lines. This significantly improves the performance of a stem plot. To remove this warning and switch to the new behaviour, set the \"use_line_collection\" keyword argument to True.\n",
      "  \n"
     ]
    },
    {
     "data": {
      "text/plain": [
       "Text(0, 0.5, 'Amplitude')"
      ]
     },
     "execution_count": 7,
     "metadata": {},
     "output_type": "execute_result"
    },
    {
     "data": {
      "image/png": "[encoded data removed]",
      "text/plain": [
       "<Figure size 432x288 with 1 Axes>"
      ]
     },
     "metadata": {
      "needs_background": "light"
     },
     "output_type": "display_data"
    }
   ],
   "source": [
    "# create unit step function\n",
    "h_2 = np.ones((L,))\n",
    "\n",
    "# convolve it with x\n",
    "w_2 = convolve(x, h_2)\n",
    "\n",
    "# plot the figure as a stemplot\n",
    "plt.stem(w_2)\n",
    "plt.title(\"$x[n] * h_2[n]$\")\n",
    "plt.xlabel(\"$n$\")\n",
    "plt.ylabel(\"Amplitude\")"
   ]
  },
  {
   "cell_type": "code",
   "execution_count": 8,
   "metadata": {},
   "outputs": [
    {
     "name": "stderr",
     "output_type": "stream",
     "text": [
      "/usr/local/lib/python3.7/site-packages/ipykernel_launcher.py:5: UserWarning: In Matplotlib 3.3 individual lines on a stem plot will be added as a LineCollection instead of individual lines. This significantly improves the performance of a stem plot. To remove this warning and switch to the new behaviour, set the \"use_line_collection\" keyword argument to True.\n",
      "  \"\"\"\n"
     ]
    },
    {
     "data": {
      "text/plain": [
       "Text(0, 0.5, 'Amplitude')"
      ]
     },
     "execution_count": 8,
     "metadata": {},
     "output_type": "execute_result"
    },
    {
     "data": {
      "image/png": "[encoded data removed]",
      "text/plain": [
       "<Figure size 432x288 with 1 Axes>"
      ]
     },
     "metadata": {
      "needs_background": "light"
     },
     "output_type": "display_data"
    }
   ],
   "source": [
    "# now convolve the unit step with itself\n",
    "w_3 = convolve(h_2, h_2)\n",
    "\n",
    "# plot the figure as a stemplot\n",
    "plt.stem(w_3)\n",
    "plt.title(\"$h_2[n] * h_2[n]$\")\n",
    "plt.xlabel(\"$n$\")\n",
    "plt.ylabel(\"Amplitude\")"
   ]
  },
  {
   "cell_type": "markdown",
   "metadata": {},
   "source": [
    "## Linearity and time-invariance"
   ]
  },
  {
   "cell_type": "markdown",
   "metadata": {},
   "source": [
    "Let's turn our attention now to the fundamental properties of _linearity_ and _time-invariance_. First, consider the system $g(x[n]) = x^2[n]$. Is this system linear and time-invariant? We would like to examine that, numerically. First, create a `lambda` function that applies the effect of the system $g(\\cdot)$."
   ]
  },
  {
   "cell_type": "code",
   "execution_count": 7,
   "metadata": {},
   "outputs": [],
   "source": [
    "# create a function to model the system\n",
    "g = lambda x: [x[idx] ** 2 for idx in range(len(x))]\n",
    "\n",
    "# evaluate your function on the random signal x\n",
    "g_1 = g(x)"
   ]
  },
  {
   "cell_type": "markdown",
   "metadata": {},
   "source": [
    "Now let us test linearity. Remember, linearity is defined as\n",
    "<center>$g(x[n] + y[n]) = g(x[n]) + g(y[n])$.</center>\n",
    "Our previous random signals were of different lengths. This is not a problem for linearity; however, we would need to handle this numerically. To avoid convoluting things (😎) let's recreate the random signals to have equal lengths."
   ]
  },
  {
   "cell_type": "code",
   "execution_count": 8,
   "metadata": {},
   "outputs": [],
   "source": [
    "# generate two random signals of length N\n",
    "x = np.random.random(N)\n",
    "y = np.random.random(N)\n",
    "\n",
    "# evaluate your function on each random signal\n",
    "g_2 = g(x)\n",
    "g_3 = g(y)\n",
    "\n",
    "# evaluate g() on the sum of x and y\n",
    "g_4 = g(x + y)"
   ]
  },
  {
   "cell_type": "markdown",
   "metadata": {},
   "source": [
    "Having computed everything, let's test if the system is linear."
   ]
  },
  {
   "cell_type": "code",
   "execution_count": 9,
   "metadata": {},
   "outputs": [
    {
     "name": "stdout",
     "output_type": "stream",
     "text": [
      "The system is linear: False\n"
     ]
    }
   ],
   "source": [
    "# test linearity\n",
    "print(\"The system is linear: {}\".format(g_2 + g_3 == g_4))"
   ]
  },
  {
   "cell_type": "markdown",
   "metadata": {},
   "source": [
    "Now let's examine time-invariance. As a reminder, a system is considered to be time-invariant if it holds that\n",
    "<center>$g(x[n - n_0]) = g(x[n]) * \\delta[n - n_0]$,</center>\n",
    "which is a fancy way of writing a delayed version of $g(x[n])$. Delay $x[n]$ by $d = 4$ and pass it through $g(\\cdot)$. Then, compute a delayed version of $g(x[n])$ which we generated before."
   ]
  },
  {
   "cell_type": "code",
   "execution_count": 10,
   "metadata": {},
   "outputs": [],
   "source": [
    "d = 4\n",
    "\n",
    "# delay x by d\n",
    "delay = np.zeros((d,))\n",
    "x_d = np.concatenate((delay, x))\n",
    "\n",
    "# pass the delayed version through the system\n",
    "g_5 = g(x_d)\n",
    "\n",
    "# delay g(x[n]) by d\n",
    "g_6 = np.concatenate((delay, g_2))"
   ]
  },
  {
   "cell_type": "markdown",
   "metadata": {},
   "source": [
    "Having computed everything, let's test if the system is time-invariant."
   ]
  },
  {
   "cell_type": "code",
   "execution_count": 11,
   "metadata": {},
   "outputs": [
    {
     "name": "stdout",
     "output_type": "stream",
     "text": [
      "The system is time-invariant: True\n"
     ]
    }
   ],
   "source": [
    "# test time-invariance\n",
    "print(\"The system is time-invariant: {}\".format((g_5 == g_6).all()))"
   ]
  },
  {
   "cell_type": "markdown",
   "metadata": {},
   "source": [
    "That's all for this week! I hope you enjoyed getting some experience with convolution and impulse responses, and hopefully the concepts of linearity and time-invariance are a bit clearer now. Please take a minute to fill out this week's feedback [form](https://docs.google.com/forms/d/e/1FAIpQLSdTWxoKujEifbACn4HB3W1EPZlmi55g-gFlKtcSFf1F99Z86g/viewform?usp=sf_link)."
   ]
  }
 ],
 "metadata": {
  "kernelspec": {
   "display_name": "Python 3",
   "language": "python",
   "name": "python3"
  },
  "language_info": {
   "codemirror_mode": {
    "name": "ipython",
    "version": 3
   },
   "file_extension": ".py",
   "mimetype": "text/x-python",
   "name": "python",
   "nbconvert_exporter": "python",
   "pygments_lexer": "ipython3",
   "version": "3.8.5"
  }
 },
 "nbformat": 4,
 "nbformat_minor": 2
}
