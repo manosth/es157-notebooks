{
 "cells": [
  {
   "cell_type": "markdown",
   "metadata": {},
   "source": [
    "# `ES 157` Notebook 2: Convolution and Systems"
   ]
  },
  {
   "cell_type": "markdown",
   "metadata": {},
   "source": [
    "This week we'll look more into the _properties_ of systems and experiment with _convolution_.\n",
    "\n",
    "At the end of this notebook you will know\n",
    "1. how to create impulse responses,\n",
    "2. how to test linearity and timy invariance in `Python`,\n",
    "3. how to write your own version of signal convolution, and\n",
    "3. how to convolve signals.\n",
    "\n",
    "As we did last week, let us import some needed libraries."
   ]
  },
  {
   "cell_type": "code",
   "execution_count": 1,
   "metadata": {},
   "outputs": [],
   "source": [
    "import matplotlib.pyplot as plt\n",
    "import numpy as np\n",
    "import scipy.signal as signal"
   ]
  },
  {
   "cell_type": "markdown",
   "metadata": {},
   "source": [
    "## (Optional) Write up your own convolution! 🤓"
   ]
  },
  {
   "cell_type": "markdown",
   "metadata": {},
   "source": [
    "Let us begin by trying to write our own version of convolution. If you're struggling, feel free to skip this step and work with `scipy`'s version instead to complete the notebook. Remember that the definition of convolution of two signals is given by\n",
    "<center>$x[n] * y[n] = \\sum_{k=-\\infty}^{\\infty} x[k]y[n-k]$.</center>"
   ]
  },
  {
   "cell_type": "code",
   "execution_count": 14,
   "metadata": {},
   "outputs": [],
   "source": [
    "def convolve(x, y):\n",
    "    '''Function that computes the convolution between two 1-D signals.'''\n",
    "    pass"
   ]
  },
  {
   "cell_type": "markdown",
   "metadata": {},
   "source": [
    "Let's test our implementation and make sure that it is consistent with `scipy`'s implementation. Let's create and convolve two random signals with `N=10` and `L=8`."
   ]
  },
  {
   "cell_type": "code",
   "execution_count": 15,
   "metadata": {},
   "outputs": [],
   "source": [
    "N = 10\n",
    "L = 8\n",
    "\n",
    "# generate the random signals\n",
    "\n",
    "# check that the outputs are the same"
   ]
  },
  {
   "cell_type": "markdown",
   "metadata": {},
   "source": [
    "## Impulse responses and convolution"
   ]
  },
  {
   "cell_type": "markdown",
   "metadata": {},
   "source": [
    "Let us now examine a few simple impulse responses and make sure that they have the expected effect. First, plot the random signal $x[n]$. Then, generate a _unit impulse_, convolve it with $x[n]$, and plot the result."
   ]
  },
  {
   "cell_type": "code",
   "execution_count": 16,
   "metadata": {},
   "outputs": [],
   "source": [
    "# plot the signal as a stemplot"
   ]
  },
  {
   "cell_type": "code",
   "execution_count": 17,
   "metadata": {},
   "outputs": [],
   "source": [
    "# create the impulse response\n",
    "\n",
    "# convolve it with x\n",
    "\n",
    "# plot the signal as a stemplot"
   ]
  },
  {
   "cell_type": "markdown",
   "metadata": {},
   "source": [
    "Let's now examine a different system impulse; namely consider a _unit step function_ of length `L`. Can you guess what the convolution with $x[n]$ will look like? What about the convolution with itself? Compute and plot both."
   ]
  },
  {
   "cell_type": "code",
   "execution_count": 18,
   "metadata": {},
   "outputs": [],
   "source": [
    "# create unit step function\n",
    "\n",
    "# convolve it with x\n",
    "\n",
    "# plot the figure as a stemplot"
   ]
  },
  {
   "cell_type": "code",
   "execution_count": 19,
   "metadata": {},
   "outputs": [],
   "source": [
    "# now convolve the unit step with itself\n",
    "\n",
    "# plot the figure as a stemplot"
   ]
  },
  {
   "cell_type": "markdown",
   "metadata": {},
   "source": [
    "## Linearity and time-invariance"
   ]
  },
  {
   "cell_type": "markdown",
   "metadata": {},
   "source": [
    "Let's turn our attention now to the fundamental properties of _linearity_ and _time-invariance_. First, consider the system $g(x[n]) = x^2[n]$. Is this system linear and time-invariant? We would like to examine that, numerically. First, create a `lambda` function that applies the effect of the system $g(\\cdot)$."
   ]
  },
  {
   "cell_type": "code",
   "execution_count": 20,
   "metadata": {},
   "outputs": [],
   "source": [
    "# create a function to model the system\n",
    "\n",
    "# evaluate your function on the random signal x"
   ]
  },
  {
   "cell_type": "markdown",
   "metadata": {},
   "source": [
    "Now let us test linearity. Remember, linearity is defined as\n",
    "<center>$g(x[n] + y[n]) = g(x[n]) + g(y[n])$.</center>\n",
    "Our previous random signals were of different lengths. This is not a problem for linearity; however, we would need to handle this numerically. To avoid convoluting things (😎) let's recreate the random signals to have equal lengths."
   ]
  },
  {
   "cell_type": "code",
   "execution_count": 21,
   "metadata": {},
   "outputs": [],
   "source": [
    "# generate two random signals of length N\n",
    "\n",
    "# evaluate your function on each random signal\n",
    "\n",
    "# evaluate g() on the sum of x and y"
   ]
  },
  {
   "cell_type": "markdown",
   "metadata": {},
   "source": [
    "Having computed everything, let's test if the system is linear."
   ]
  },
  {
   "cell_type": "code",
   "execution_count": 22,
   "metadata": {},
   "outputs": [],
   "source": [
    "# test linearity"
   ]
  },
  {
   "cell_type": "markdown",
   "metadata": {},
   "source": [
    "Now let's examine time-invariance. As a reminder, a system is considered to be time-invariant if it holds that\n",
    "<center>$g(x[n - n_0]) = g(x[n]) * \\delta[n - n_0]$,</center>\n",
    "which is a fancy way of writing a delayed version of $g(x[n])$. Delay $x[n]$ by $d = 4$ and pass it through $g(\\cdot)$. Then, compute a delayed version of $g(x[n])$ which we generated before."
   ]
  },
  {
   "cell_type": "code",
   "execution_count": 23,
   "metadata": {},
   "outputs": [],
   "source": [
    "d = 4\n",
    "\n",
    "# delay x by d\n",
    "\n",
    "# pass the delayed version through the system\n",
    "\n",
    "# delay g(x[n]) by d"
   ]
  },
  {
   "cell_type": "markdown",
   "metadata": {},
   "source": [
    "Having computed everything, let's test if the system is time-invariant."
   ]
  },
  {
   "cell_type": "code",
   "execution_count": 24,
   "metadata": {},
   "outputs": [],
   "source": [
    "# test time-invariance"
   ]
  },
  {
   "cell_type": "markdown",
   "metadata": {},
   "source": [
    "That's all for this week! I hope you enjoyed getting some experience with convolution and impulse responses, and hopefully the concepts of linearity and time-invariance are a bit clearer now. Please take a minute to fill out this week's feedback [form](https://docs.google.com/forms/d/e/1FAIpQLSdTWxoKujEifbACn4HB3W1EPZlmi55g-gFlKtcSFf1F99Z86g/viewform?usp=sf_link)."
   ]
  }
 ],
 "metadata": {
  "kernelspec": {
   "display_name": "Python 3",
   "language": "python",
   "name": "python3"
  },
  "language_info": {
   "codemirror_mode": {
    "name": "ipython",
    "version": 3
   },
   "file_extension": ".py",
   "mimetype": "text/x-python",
   "name": "python",
   "nbconvert_exporter": "python",
   "pygments_lexer": "ipython3",
   "version": "3.8.5"
  }
 },
 "nbformat": 4,
 "nbformat_minor": 2
}
